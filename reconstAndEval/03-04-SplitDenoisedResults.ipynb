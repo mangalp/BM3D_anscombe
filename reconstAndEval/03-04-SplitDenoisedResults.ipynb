{
 "cells": [
  {
   "cell_type": "code",
   "execution_count": 1,
   "metadata": {},
   "outputs": [],
   "source": [
    "import numpy as np\n",
    "from glob import glob\n",
    "from tifffile import imread, imsave\n",
    "import os\n",
    "from shutil import copyfile\n",
    "\n"
   ]
  },
  {
   "cell_type": "markdown",
   "metadata": {},
   "source": [
    "## Set orientation"
   ]
  },
  {
   "cell_type": "code",
   "execution_count": 2,
   "metadata": {},
   "outputs": [],
   "source": [
    "denoisedPath=os.getcwd()+'/../19-08-2019/03-Temp/'\n",
    "orientation='o2/' # change this 'o0', 'o1', 'o2'\n",
    "denoisedPatho0=glob(denoisedPath+orientation+'*.tif')\n",
    "denoisedPatho1=glob(denoisedPath+orientation+'*.tif')\n",
    "denoisedPatho2=glob(denoisedPath+orientation+'*.tif')\n"
   ]
  },
  {
   "cell_type": "code",
   "execution_count": 3,
   "metadata": {},
   "outputs": [],
   "source": [
    "N2Vlist=[]\n",
    "PN2Vlist=[]\n",
    "if orientation=='o0/':\n",
    "    for filename in denoisedPatho0:\n",
    "        if(\"_MMSE-PN2V.tif\" in filename):\n",
    "            PN2Vlist.append(filename)\n",
    "        elif(\"_N2V.tif\" in filename):\n",
    "            N2Vlist.append(filename)\n",
    "elif orientation=='o1/':\n",
    "    for filename in denoisedPatho1:\n",
    "        if(\"_MMSE-PN2V.tif\" in filename):\n",
    "            PN2Vlist.append(filename)\n",
    "        elif(\"_N2V.tif\" in filename):\n",
    "            N2Vlist.append(filename)\n",
    "elif orientation=='o2/':\n",
    "    for filename in denoisedPatho2:\n",
    "        if(\"_MMSE-PN2V.tif\" in filename):\n",
    "            PN2Vlist.append(filename)\n",
    "        elif(\"_N2V.tif\" in filename):\n",
    "            N2Vlist.append(filename)"
   ]
  },
  {
   "cell_type": "code",
   "execution_count": 4,
   "metadata": {
    "scrolled": true
   },
   "outputs": [
    {
     "name": "stdout",
     "output_type": "stream",
     "text": [
      "116\n",
      "232\n"
     ]
    }
   ],
   "source": [
    "print(len(N2Vlist))\n",
    "print(len(PN2Vlist))"
   ]
  },
  {
   "cell_type": "markdown",
   "metadata": {},
   "source": [
    "## Save in N2V and PN2V directories"
   ]
  },
  {
   "cell_type": "code",
   "execution_count": 5,
   "metadata": {},
   "outputs": [],
   "source": [
    "for i in range(len(N2Vlist)):\n",
    "    copyfile(N2Vlist[i], os.getcwd()+'/../19-08-2019/04-DenoisedData/N2V/'+orientation+os.path.split(N2Vlist[i])[-1])    "
   ]
  },
  {
   "cell_type": "code",
   "execution_count": 6,
   "metadata": {},
   "outputs": [],
   "source": [
    "for i in range(len(PN2Vlist)):\n",
    "    copyfile(PN2Vlist[i], os.getcwd()+'/../19-08-2019/04-DenoisedData/PN2V/'+orientation+os.path.split(PN2Vlist[i])[-1])"
   ]
  }
 ],
 "metadata": {
  "kernelspec": {
   "display_name": "Python 3",
   "language": "python",
   "name": "python3"
  },
  "language_info": {
   "codemirror_mode": {
    "name": "ipython",
    "version": 3
   },
   "file_extension": ".py",
   "mimetype": "text/x-python",
   "name": "python",
   "nbconvert_exporter": "python",
   "pygments_lexer": "ipython3",
   "version": "3.7.3"
  }
 },
 "nbformat": 4,
 "nbformat_minor": 2
}
