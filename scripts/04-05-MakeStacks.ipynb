{
 "cells": [
  {
   "cell_type": "markdown",
   "metadata": {},
   "source": [
    "## This notebook reads denoised images from three directories and composes them into a stack \n"
   ]
  },
  {
   "cell_type": "code",
   "execution_count": 1,
   "metadata": {
    "collapsed": true
   },
   "outputs": [],
   "source": [
    "import numpy as np\n",
    "import matplotlib.pyplot as plt\n",
    "import tifffile\n",
    "import glob\n",
    "import os"
   ]
  },
  {
   "cell_type": "markdown",
   "metadata": {},
   "source": [
    "## Specify path to denoised images (SET MODE!!)"
   ]
  },
  {
   "cell_type": "code",
   "execution_count": 2,
   "metadata": {},
   "outputs": [
    {
     "name": "stdout",
     "output_type": "stream",
     "text": [
      "/home/lalit/Desktop/03_Datasets/N2V-SimSim/scripts\n"
     ]
    }
   ],
   "source": [
    "print(os.getcwd())\n",
    "denoisedPath=os.getcwd()+'/../19-08-2019/04-DenoisedData/'\n",
    "mode='N4V/'# N2V, PN2V, N4V\n",
    "denoisedPatho0=denoisedPath+mode+'o0/*.tif'\n",
    "denoisedPatho1=denoisedPath+mode+'o1/*.tif'\n",
    "denoisedPatho2=denoisedPath+mode+'o2/*.tif'"
   ]
  },
  {
   "cell_type": "markdown",
   "metadata": {},
   "source": [
    "## Specify Save Directory"
   ]
  },
  {
   "cell_type": "code",
   "execution_count": 3,
   "metadata": {
    "collapsed": true
   },
   "outputs": [],
   "source": [
    "saveDenoisedPath=os.getcwd()+'/../19-08-2019/05-DenoisedStacks/'"
   ]
  },
  {
   "cell_type": "code",
   "execution_count": 4,
   "metadata": {},
   "outputs": [
    {
     "name": "stdout",
     "output_type": "stream",
     "text": [
      "348 348 348\n"
     ]
    }
   ],
   "source": [
    "imagesListo0=glob.glob(denoisedPatho0)\n",
    "imagesListo0.sort()\n",
    "imagesListo1=glob.glob(denoisedPatho1)\n",
    "imagesListo1.sort()\n",
    "imagesListo2=glob.glob(denoisedPatho2)\n",
    "imagesListo2.sort()\n",
    "print(len(imagesListo0), len(imagesListo1), len(imagesListo2))"
   ]
  },
  {
   "cell_type": "code",
   "execution_count": 5,
   "metadata": {
    "collapsed": true
   },
   "outputs": [],
   "source": [
    "for i in range(len(imagesListo0)):\n",
    "    tempImageo0=tifffile.imread(imagesListo0[i])\n",
    "    tempImageo1=tifffile.imread(imagesListo1[i])\n",
    "    tempImageo2=tifffile.imread(imagesListo2[i])\n",
    "    tempImage=np.vstack((tempImageo0, tempImageo1, tempImageo2))\n",
    "    tifffile.imsave(saveDenoisedPath+mode+os.path.basename(imagesListo0[i]).replace('_o0', \"\"), np.array(tempImage, dtype='float32'))"
   ]
  },
  {
   "cell_type": "code",
   "execution_count": null,
   "metadata": {
    "collapsed": true
   },
   "outputs": [],
   "source": []
  }
 ],
 "metadata": {
  "kernelspec": {
   "display_name": "Python 3",
   "language": "python",
   "name": "python3"
  },
  "language_info": {
   "codemirror_mode": {
    "name": "ipython",
    "version": 3
   },
   "file_extension": ".py",
   "mimetype": "text/x-python",
   "name": "python",
   "nbconvert_exporter": "python",
   "pygments_lexer": "ipython3",
   "version": "3.6.1"
  }
 },
 "nbformat": 4,
 "nbformat_minor": 2
}
