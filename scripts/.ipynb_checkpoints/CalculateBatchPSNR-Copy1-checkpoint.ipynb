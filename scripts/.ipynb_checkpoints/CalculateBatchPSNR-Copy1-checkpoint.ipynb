{
 "cells": [
  {
   "cell_type": "code",
   "execution_count": 1,
   "metadata": {},
   "outputs": [],
   "source": [
    "import numpy as np\n",
    "import glob\n",
    "import pandas as pd"
   ]
  },
  {
   "cell_type": "code",
   "execution_count": 2,
   "metadata": {},
   "outputs": [],
   "source": [
    "def PSNR(gt, pred, range_= 65535.0 ):\n",
    "    mse = np.mean((gt - pred)**2)\n",
    "    return 20 * np.log10((range_)/np.sqrt(mse))\n",
    "\n",
    "def zero_mean(x):\n",
    "    return x-np.mean(x)\n",
    "\n",
    "def fix_range(gt,x):\n",
    "    a = np.sum(gt*x) / (np.sum(x*x) )\n",
    "    return x*a\n",
    "\n",
    "def fix(gt,x):\n",
    "    gt_=zero_mean(gt)\n",
    "    return fix_range(gt_, zero_mean(x)  )   \n",
    "\n",
    "def bestPsnr(gt,pred):\n",
    "    ra=65536/np.std(gt)\n",
    "    #ra=np.max(gt)/np.std(gt)\n",
    "    gt_=zero_mean(gt)/np.std(gt)\n",
    "    return PSNR(zero_mean(gt_), fix(gt_,pred),ra)"
   ]
  },
  {
   "cell_type": "markdown",
   "metadata": {},
   "source": [
    "## Change these variables"
   ]
  },
  {
   "cell_type": "code",
   "execution_count": 3,
   "metadata": {},
   "outputs": [],
   "source": [
    "GTFiles=glob.glob('../16-08-2019/01-GroundTruth')\n",
    "GTFiles.sort()\n",
    "print(len(GTFiles))\n",
    "reconstructedFiles=glob.glob('../16-08-2019/09-TifReconstructions')\n",
    "reconstructedFiles.sort()\n",
    "print(len(reconstructedFiles))\n",
    "export_file_path='../16-08-2019/10-Results/'"
   ]
  },
  {
   "cell_type": "markdown",
   "metadata": {},
   "source": [
    "## Core"
   ]
  },
  {
   "cell_type": "code",
   "execution_count": null,
   "metadata": {},
   "outputs": [],
   "source": [
    "gtImageList=[]\n",
    "bestPsnrList=[]\n",
    "reconstructionImageList=[]\n",
    "for i in range(len(predictionFiles)):\n",
    "    gtImage=tifffile.imread(GTFiles[i//3])\n",
    "    reconstructionImage=tifffile.imread(reconstructionFiles[i])\n",
    "    bestPsnrTemp=bestPsnr(gtImage, predictionImage)\n",
    "    gtImageList.append(GTFiles[i//3])\n",
    "    reconstructionImageList.append(reconstructionImage[i])\n",
    "    bestPsnrList.append(bestPsnrTemp)"
   ]
  },
  {
   "cell_type": "markdown",
   "metadata": {},
   "source": [
    "## Save as csv"
   ]
  },
  {
   "cell_type": "code",
   "execution_count": null,
   "metadata": {},
   "outputs": [],
   "source": [
    "d = {'GtImageFileNames':gtImageList,'ReconstructionImageFileNames':reconstructionImageList, 'BestPSNR':bestPSNRList}\n",
    "df = pd.DataFrame(d)\n",
    "df.to_csv (export_file_path, index = None, header=True)"
   ]
  }
 ],
 "metadata": {
  "kernelspec": {
   "display_name": "Python 3",
   "language": "python",
   "name": "python3"
  },
  "language_info": {
   "codemirror_mode": {
    "name": "ipython",
    "version": 3
   },
   "file_extension": ".py",
   "mimetype": "text/x-python",
   "name": "python",
   "nbconvert_exporter": "python",
   "pygments_lexer": "ipython3",
   "version": "3.7.3"
  }
 },
 "nbformat": 4,
 "nbformat_minor": 2
}
