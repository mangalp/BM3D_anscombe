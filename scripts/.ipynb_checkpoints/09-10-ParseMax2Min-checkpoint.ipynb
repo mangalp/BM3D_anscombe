{
 "cells": [
  {
   "cell_type": "code",
   "execution_count": 1,
   "metadata": {},
   "outputs": [],
   "source": [
    "import numpy as np\n",
    "import os\n",
    "import pandas as pd\n",
    "from glob import glob\n",
    "from tifffile import imread, imsave"
   ]
  },
  {
   "cell_type": "code",
   "execution_count": 2,
   "metadata": {},
   "outputs": [],
   "source": [
    "base_folder = \"../19-08-2019/10-Results/\" # Needs a folder with tif files, absolute path\n",
    "scheme = \"PN2V/\" # Put scheme name either \"GT\", PN2V\", \"N2V\", \"N4V\" or \"Noisy\" for noisy data\n",
    "export_file_path='../19-08-2019/10-Results/'+scheme"
   ]
  },
  {
   "cell_type": "code",
   "execution_count": 3,
   "metadata": {},
   "outputs": [],
   "source": [
    "file = open(base_folder+scheme+'max2minMetricLog.txt')\n",
    "imageList200 = []\n",
    "max2minRatioList200 = []\n",
    "imageList400 = []\n",
    "max2minRatioList400 = []\n",
    "\n",
    "for line in file:\n",
    "    if (line.startswith('Displaying')):\n",
    "        a = line.split(\"Displaying\")[1] \n",
    "        b = a.split(\":\")[0]\n",
    "        if(\"sig200\" in b):\n",
    "            imageList200.append(b)\n",
    "            c = \"sig200\"\n",
    "        elif(\"sig400\" in b):\n",
    "            imageList400.append(b)\n",
    "            c = \"sig400\"\n",
    "    if (line.startswith('C1 max-to-min intensity ratio')):\n",
    "        a=line.split(\"=\")[1]\n",
    "        b=a.split(\"\\n\")[0]\n",
    "        if(c == \"sig200\"):\n",
    "            max2minRatioList200.append(b)\n",
    "        elif(c == \"sig400\"):\n",
    "            max2minRatioList400.append(b)"
   ]
  },
  {
   "cell_type": "code",
   "execution_count": 4,
   "metadata": {},
   "outputs": [],
   "source": [
    "d200 = {'ImageFileNames':imageList200,'max2minratio': max2minRatioList200}\n",
    "df200 = pd.DataFrame(d200)\n",
    "df200.to_csv (export_file_path+'max2minRatio_sig200.csv', index = None, header=True)\n",
    "d400 = {'ImageFileNames':imageList400,'max2minratio': max2minRatioList400}\n",
    "df400 = pd.DataFrame(d400)\n",
    "df400.to_csv (export_file_path+'max2minRatio_sig400.csv', index = None, header=True)"
   ]
  },
  {
   "cell_type": "code",
   "execution_count": 5,
   "metadata": {},
   "outputs": [],
   "source": [
    "a = [float(i) for i in max2minRatioList200]\n",
    "b = [float(i) for i in max2minRatioList400]"
   ]
  },
  {
   "cell_type": "code",
   "execution_count": 6,
   "metadata": {},
   "outputs": [
    {
     "name": "stdout",
     "output_type": "stream",
     "text": [
      "7.426724137931036\n",
      "8.811206896551724\n"
     ]
    }
   ],
   "source": [
    "print(np.average(a))\n",
    "print(np.average(b))"
   ]
  },
  {
   "cell_type": "code",
   "execution_count": null,
   "metadata": {},
   "outputs": [],
   "source": []
  }
 ],
 "metadata": {
  "kernelspec": {
   "display_name": "Python 3",
   "language": "python",
   "name": "python3"
  },
  "language_info": {
   "codemirror_mode": {
    "name": "ipython",
    "version": 3
   },
   "file_extension": ".py",
   "mimetype": "text/x-python",
   "name": "python",
   "nbconvert_exporter": "python",
   "pygments_lexer": "ipython3",
   "version": "3.7.3"
  }
 },
 "nbformat": 4,
 "nbformat_minor": 2
}
