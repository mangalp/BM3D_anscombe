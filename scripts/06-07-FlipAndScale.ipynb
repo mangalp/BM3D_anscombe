{
 "cells": [
  {
   "cell_type": "code",
   "execution_count": 1,
   "metadata": {},
   "outputs": [],
   "source": [
    "import numpy as np\n",
    "import os\n",
    "from glob import glob\n",
    "from tifffile import imread, imsave"
   ]
  },
  {
   "cell_type": "code",
   "execution_count": 2,
   "metadata": {},
   "outputs": [],
   "source": [
    "base_folder = \"../19-08-2019/05-DenoisedStacks/\" # Needs a folder with tif files, absolute path\n",
    "denoising_scheme = \"N4V\" # Put scheme name either \"PN2V\", \"N2V\", \"N4V\" or None for noisy data\n",
    "head_tail = base_folder.split(\"/\")"
   ]
  },
  {
   "cell_type": "code",
   "execution_count": 3,
   "metadata": {},
   "outputs": [],
   "source": [
    "if(\"02-NoisyData\" in base_folder):\n",
    "    data_type = \"noisy\"\n",
    "elif(\"05-DenoisedStacks\" in base_folder):\n",
    "    data_type = \"denoised\""
   ]
  },
  {
   "cell_type": "code",
   "execution_count": 4,
   "metadata": {},
   "outputs": [],
   "source": [
    "head_tail = head_tail[0:-2]\n",
    "out_folder = head_tail[0] \n",
    "for i in range(1, len(head_tail)):\n",
    "    out_folder = os.path.join(out_folder, head_tail[i])   \n",
    "if(data_type is \"noisy\"):\n",
    "    out_folder = os.path.join(out_folder, \"03-FlippedNoisyData\")\n",
    "elif(data_type is \"denoised\"):\n",
    "    out_folder = os.path.join(out_folder, \"06-FlippedDenoisedData\", denoising_scheme)"
   ]
  },
  {
   "cell_type": "code",
   "execution_count": 5,
   "metadata": {},
   "outputs": [],
   "source": [
    "if(denoising_scheme is None):\n",
    "    files = glob(base_folder+\"*.tif\")\n",
    "else:\n",
    "    files = glob(base_folder+denoising_scheme+\"/\"+\"*.tif\")\n",
    "\n",
    "for file in files:\n",
    "    img = imread(file)\n",
    "    img = np.flip(img, axis = 1)\n",
    "    img = (img - np.min(img))/(np.max(img) - np.min(img))\n",
    "    img16 = (img*(2**16 - 1)).astype(np.uint16)\n",
    "    split_string = file.split(\"/\")[-1]\n",
    "    split_string = split_string.split(\".\")[0]\n",
    "    imsave(out_folder+\"/\"+split_string+\"_16-bit-scaled.tif\", img16)"
   ]
  },
  {
   "cell_type": "code",
   "execution_count": null,
   "metadata": {},
   "outputs": [],
   "source": []
  }
 ],
 "metadata": {
  "kernelspec": {
   "display_name": "Python 3",
   "language": "python",
   "name": "python3"
  },
  "language_info": {
   "codemirror_mode": {
    "name": "ipython",
    "version": 3
   },
   "file_extension": ".py",
   "mimetype": "text/x-python",
   "name": "python",
   "nbconvert_exporter": "python",
   "pygments_lexer": "ipython3",
   "version": "3.7.3"
  }
 },
 "nbformat": 4,
 "nbformat_minor": 2
}
