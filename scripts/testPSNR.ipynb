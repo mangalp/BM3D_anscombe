{
 "cells": [
  {
   "cell_type": "code",
   "execution_count": 4,
   "metadata": {},
   "outputs": [],
   "source": [
    "import numpy as np\n",
    "import glob\n",
    "from tifffile import imread\n",
    "#import pandas as pd"
   ]
  },
  {
   "cell_type": "code",
   "execution_count": 19,
   "metadata": {},
   "outputs": [],
   "source": [
    "def PSNR(gt, pred, range_= 65535.0 ):\n",
    "    mse = np.mean((gt - pred)**2)\n",
    "    return 20 * np.log10((range_)/np.sqrt(mse))\n",
    "\n",
    "def zero_mean(x):\n",
    "    return x-np.mean(x)\n",
    "\n",
    "def fix_range(gt,x):\n",
    "    a = np.sum(gt*x) / (np.sum(x*x) )\n",
    "    return x*a\n",
    "\n",
    "def fix(gt,x):\n",
    "    gt_=zero_mean(gt)\n",
    "    return fix_range(gt_, zero_mean(x)  )   \n",
    "\n",
    "def bestPsnr(gt,pred):\n",
    "    ra=(np.max(gt)-np.min(gt))/np.std(gt)\n",
    "    #ra=np.max(gt)/np.std(gt)\n",
    "    gt_=zero_mean(gt)/np.std(gt)\n",
    "    return PSNR(zero_mean(gt_), fix(gt_,pred),ra)"
   ]
  },
  {
   "cell_type": "markdown",
   "metadata": {},
   "source": [
    "## Change these variables"
   ]
  },
  {
   "cell_type": "code",
   "execution_count": 20,
   "metadata": {},
   "outputs": [
    {
     "name": "stdout",
     "output_type": "stream",
     "text": [
      "6\n"
     ]
    }
   ],
   "source": [
    "GTFiles=glob.glob('/home/prakash/Desktop/NAS/SImSim/SIMSIM/*.tif')\n",
    "GTFiles.sort()\n",
    "print(len(GTFiles))\n",
    "# reconstructedFiles=glob.glob('../16-08-2019/09-TifReconstructions')\n",
    "# reconstructedFiles.sort()\n",
    "# print(len(reconstructedFiles))\n",
    "# export_file_path='../16-08-2019/10-Results/'"
   ]
  },
  {
   "cell_type": "code",
   "execution_count": 21,
   "metadata": {},
   "outputs": [],
   "source": [
    "gt = imread(\"/home/prakash/Desktop/NAS/SImSim/190709-093813_128x128x015_up8x5_528nm_ls2035_nim1515_matslines3D_optsim_Result.tif\")"
   ]
  },
  {
   "cell_type": "code",
   "execution_count": 22,
   "metadata": {},
   "outputs": [
    {
     "name": "stdout",
     "output_type": "stream",
     "text": [
      "/home/prakash/Desktop/NAS/SImSim/SIMSIM/190709-093813_ccd_sig200_exp1_rn8_bgrd0_460_0000_MMSE-PN2V_16-bit-scaled_Result.tif\n",
      "30.544981956481934\n",
      "/home/prakash/Desktop/NAS/SImSim/SIMSIM/190709-093813_ccd_sig200_exp1_rn8_bgrd0_460_0000_N2V_16-bit-scaled_Result.tif\n",
      "29.489099979400635\n",
      "/home/prakash/Desktop/NAS/SImSim/SIMSIM/190709-093813_ccd_sig200_exp1_rn8_bgrd0_460_0000_N2V_N2V_16-bit-scaled_Result.tif\n",
      "29.766290187835693\n",
      "/home/prakash/Desktop/NAS/SImSim/SIMSIM/190709-093813_ccd_sig200_exp1_rn8_bgrd0_460_0000_flipped_Result.tif\n",
      "25.734009742736816\n",
      "/home/prakash/Desktop/NAS/SImSim/SIMSIM/190709-093813_ccd_sig400_exp1_rn8_bgrd0_266_0000_MMSE-PN2V_16-bit-scaled_Result.tif\n",
      "33.33313465118408\n",
      "/home/prakash/Desktop/NAS/SImSim/SIMSIM/190709-093813_ccd_sig400_exp1_rn8_bgrd0_266_0000_flipped_Result.tif\n",
      "28.68281126022339\n"
     ]
    }
   ],
   "source": [
    "for f in GTFiles:\n",
    "    bestPSNR = bestPsnr(gt, imread(f))\n",
    "    print(f)\n",
    "    print(bestPSNR)"
   ]
  },
  {
   "cell_type": "markdown",
   "metadata": {},
   "source": [
    "## Core"
   ]
  },
  {
   "cell_type": "code",
   "execution_count": null,
   "metadata": {},
   "outputs": [],
   "source": [
    "gtImageList=[]\n",
    "bestPsnrList=[]\n",
    "reconstructionImageList=[]\n",
    "for i in range(len(predictionFiles)):\n",
    "    gtImage=tifffile.imread(GTFiles[i//3])\n",
    "    reconstructionImage=tifffile.imread(reconstructionFiles[i])\n",
    "    bestPsnrTemp=bestPsnr(gtImage, predictionImage)\n",
    "    gtImageList.append(GTFiles[i//3])\n",
    "    reconstructionImageList.append(reconstructionImage[i])\n",
    "    bestPsnrList.append(bestPsnrTemp)"
   ]
  },
  {
   "cell_type": "markdown",
   "metadata": {},
   "source": [
    "## Save as csv"
   ]
  },
  {
   "cell_type": "code",
   "execution_count": null,
   "metadata": {},
   "outputs": [],
   "source": [
    "d = {'GtImageFileNames':gtImageList,'ReconstructionImageFileNames':reconstructionImageList, 'BestPSNR':bestPSNRList}\n",
    "df = pd.DataFrame(d)\n",
    "df.to_csv (export_file_path, index = None, header=True)"
   ]
  }
 ],
 "metadata": {
  "kernelspec": {
   "display_name": "Python 3",
   "language": "python",
   "name": "python3"
  },
  "language_info": {
   "codemirror_mode": {
    "name": "ipython",
    "version": 3
   },
   "file_extension": ".py",
   "mimetype": "text/x-python",
   "name": "python",
   "nbconvert_exporter": "python",
   "pygments_lexer": "ipython3",
   "version": "3.7.3"
  }
 },
 "nbformat": 4,
 "nbformat_minor": 2
}
