{
 "cells": [
  {
   "cell_type": "code",
   "execution_count": 1,
   "metadata": {
    "collapsed": true
   },
   "outputs": [],
   "source": [
    "import numpy as np\n",
    "#\n",
    "# The function in this file follow closely after the MATLAB scripts\n",
    "# written by Alessandro Foi and Markku Makitalo - Tampere University\n",
    "# of Technology - 2011-2012\n",
    "#\n",
    "#    http://www.cs.tut.fi/~foi/invansc/\n",
    "#\n",
    "# that accompanies their paper:\n",
    "#\n",
    "#    Reference: M. Makitalo and A. Foi, \"Optimal inversion of the\n",
    "#    generalized Anscombe transformation for Poisson-Gaussian noise\",\n",
    "#    IEEE Trans. Image Process., doi:10.1109/TIP.2012.2202675\n",
    "\n",
    "\n",
    "#-------- Variance stabilizing transforms -----------\n",
    "\n",
    "def anscombe(x):\n",
    "    '''\n",
    "    Compute the anscombe variance stabilizing transform.\n",
    "      the input   x   is noisy Poisson-distributed data\n",
    "      the output  fx  has variance approximately equal to 1.\n",
    "    Reference: Anscombe, F. J. (1948), \"The transformation of Poisson,\n",
    "    binomial and negative-binomial data\", Biometrika 35 (3-4): 246-254\n",
    "    '''\n",
    "    return 2.0*np.sqrt(x + 3.0/8.0)\n",
    "\n",
    "def inverse_anscombe(z):\n",
    "    '''\n",
    "    Compute the inverse transform using an approximation of the exact\n",
    "    unbiased inverse.\n",
    "    Reference: Makitalo, M., & Foi, A. (2011). A closed-form\n",
    "    approximation of the exact unbiased inverse of the Anscombe\n",
    "    variance-stabilizing transformation. Image Processing.\n",
    "    '''\n",
    "    #return (z/2.0)**2 - 3.0/8.0\n",
    "    return (1.0/4.0 * np.power(z, 2) +\n",
    "            1.0/4.0 * np.sqrt(3.0/2.0) * np.power(z, -1.0) -\n",
    "            11.0/8.0 * np.power(z, -2.0) + \n",
    "            5.0/8.0 * np.sqrt(3.0/2.0) * np.power(z, -3.0) - 1.0 / 8.0)\n",
    "\n",
    "def generalized_anscombe(x, mu, sigma, gain=1.0):\n",
    "    '''\n",
    "    Compute the generalized anscombe variance stabilizing transform,\n",
    "    which assumes that the data provided to it is a mixture of poisson\n",
    "    and gaussian noise.\n",
    "    The input signal  z  is assumed to follow the Poisson-Gaussian noise model\n",
    "        x = gain * p + n\n",
    "    where gain is the camera gain and mu and sigma are the read noise\n",
    "    mean and standard deviation.\n",
    "    We assume that x contains only positive values.  Values that are\n",
    "    less than or equal to 0 are ignored by the transform.\n",
    "    Note, this transform will show some bias for counts less than\n",
    "    about 20.\n",
    "    '''\n",
    "    y = gain*x + (gain**2)*3.0/8.0 + sigma**2 - gain*mu\n",
    "\n",
    "    # Clamp to zero before taking the square root.\n",
    "    return (2.0/gain)*np.sqrt(np.maximum(y, 0.0))\n",
    "\n",
    "def inverse_generalized_anscombe(x, mu, sigma, gain=1.0):\n",
    "    '''\n",
    "    Applies the closed-form approximation of the exact unbiased\n",
    "    inverse of Generalized Anscombe variance-stabilizing\n",
    "    transformation.\n",
    "    The input signal x is transform back into a Poisson random variable\n",
    "    based on the assumption that the original signal from which it was\n",
    "    derived follows the Poisson-Gaussian noise model:\n",
    "        x = gain * p + n\n",
    "    where gain is the camera gain and mu and sigma are the read noise\n",
    "    mean and standard deviation.\n",
    "    Roference: M. Makitalo and A. Foi, \"Optimal inversion of the\n",
    "    generalized Anscombe transformation for Poisson-Gaussian noise\",\n",
    "    IEEE Trans. Image Process., doi:10.1109/TIP.2012.2202675\n",
    "    '''\n",
    "    test = np.maximum(x, 1.0)\n",
    "    exact_inverse = ( np.power(test/2.0, 2.0) +\n",
    "                      1.0/4.0 * np.sqrt(3.0/2.0)*np.power(test, -1.0) -\n",
    "                      11.0/8.0 * np.power(test, -2.0) +\n",
    "                      5.0/8.0 * np.sqrt(3.0/2.0) * np.power(test, -3.0) -\n",
    "                      1.0/8.0 - np.power(sigma, 2) )\n",
    "    exact_inverse = np.maximum(0.0, exact_inverse)\n",
    "    exact_inverse *= gain\n",
    "    exact_inverse += mu\n",
    "    exact_inverse[np.where(exact_inverse != exact_inverse)] = 0.0\n",
    "    return exact_inverse\n",
    "\n",
    "#def inverse_generalized_anscombe(y,mu,sigma,gain=1.0):\n",
    "#    return (1.0/gain)*(gain*y/2.0)**2 - gain*3.0/8.0 - (sigma**2)/gain + mu"
   ]
  },
  {
   "cell_type": "code",
   "execution_count": 2,
   "metadata": {
    "collapsed": true
   },
   "outputs": [],
   "source": [
    "from bm3d import bm3d, BM3DProfile\n",
    "import numpy as np\n",
    "import scipy.misc\n",
    "from matplotlib import pyplot as plt\n",
    "from tifffile import imread, imsave"
   ]
  },
  {
   "cell_type": "code",
   "execution_count": 6,
   "metadata": {},
   "outputs": [
    {
     "name": "stdout",
     "output_type": "stream",
     "text": [
      "(100, 512, 512)\n",
      "(1, 512, 512)\n"
     ]
    }
   ],
   "source": [
    "path='/Users/prakash/Downloads/Convallaria_diaphragm/'\n",
    "\n",
    "# Load the test data\n",
    "noisy=imread(path+\"20190520_tl_25um_50msec_05pc_488_130EM_Conv.tif\")[:,:512,:512].astype(np.float32)\n",
    "# We are loading only a sub image to spped up computation\n",
    "\n",
    "# We estimate the ground truth by averaging.\n",
    "clean=np.mean(noisy[:,...],axis=0)[np.newaxis,...]\n",
    "\n",
    "print(noisy.shape)\n",
    "print(clean.shape)\n"
   ]
  },
  {
   "cell_type": "code",
   "execution_count": 7,
   "metadata": {
    "collapsed": true
   },
   "outputs": [],
   "source": [
    "def PSNR(gt, img, rangePSNR):\n",
    "    '''\n",
    "    Compute PSNR.\n",
    "    Parameters\n",
    "    ----------\n",
    "    gt: array\n",
    "        Ground truth image.\n",
    "    img: array\n",
    "        Predicted image.''\n",
    "    '''\n",
    "    mse = np.mean(np.square(gt - img))\n",
    "    return 20 * np.log10(rangePSNR) - 10 * np.log10(mse)"
   ]
  },
  {
   "cell_type": "code",
   "execution_count": null,
   "metadata": {
    "scrolled": false
   },
   "outputs": [
    {
     "name": "stdout",
     "output_type": "stream",
     "text": [
      "--------------------imgae: 0  ------------------------------------\n"
     ]
    },
    {
     "name": "stderr",
     "output_type": "stream",
     "text": [
      "100%|██████████| 1/1 [00:07<00:00,  7.04s/it]\n"
     ]
    },
    {
     "name": "stdout",
     "output_type": "stream",
     "text": [
      "image: 0 \t PSNR: 35.331679559868505 \t mean PSNR: 35.331679559868505\n",
      "--------------------imgae: 1  ------------------------------------\n"
     ]
    },
    {
     "name": "stderr",
     "output_type": "stream",
     "text": [
      "100%|██████████| 1/1 [00:08<00:00,  8.24s/it]\n"
     ]
    },
    {
     "name": "stdout",
     "output_type": "stream",
     "text": [
      "image: 1 \t PSNR: 35.30759272805587 \t mean PSNR: 35.319636143962185\n",
      "--------------------imgae: 2  ------------------------------------\n"
     ]
    },
    {
     "name": "stderr",
     "output_type": "stream",
     "text": [
      "100%|██████████| 1/1 [00:06<00:00,  6.22s/it]\n"
     ]
    },
    {
     "name": "stdout",
     "output_type": "stream",
     "text": [
      "image: 2 \t PSNR: 35.32641718971271 \t mean PSNR: 35.3218964925457\n",
      "--------------------imgae: 3  ------------------------------------\n"
     ]
    },
    {
     "name": "stderr",
     "output_type": "stream",
     "text": [
      "100%|██████████| 1/1 [00:06<00:00,  6.78s/it]\n"
     ]
    },
    {
     "name": "stdout",
     "output_type": "stream",
     "text": [
      "image: 3 \t PSNR: 35.43406623928898 \t mean PSNR: 35.34993892923151\n",
      "--------------------imgae: 4  ------------------------------------\n"
     ]
    },
    {
     "name": "stderr",
     "output_type": "stream",
     "text": [
      "100%|██████████| 1/1 [00:07<00:00,  7.23s/it]\n"
     ]
    },
    {
     "name": "stdout",
     "output_type": "stream",
     "text": [
      "image: 4 \t PSNR: 35.480498658244414 \t mean PSNR: 35.376050875034096\n",
      "--------------------imgae: 5  ------------------------------------\n"
     ]
    },
    {
     "name": "stderr",
     "output_type": "stream",
     "text": [
      "100%|██████████| 1/1 [00:06<00:00,  6.28s/it]\n"
     ]
    },
    {
     "name": "stdout",
     "output_type": "stream",
     "text": [
      "image: 5 \t PSNR: 35.38835920704704 \t mean PSNR: 35.37810226370292\n",
      "--------------------imgae: 6  ------------------------------------\n"
     ]
    },
    {
     "name": "stderr",
     "output_type": "stream",
     "text": [
      "100%|██████████| 1/1 [00:06<00:00,  6.68s/it]\n"
     ]
    },
    {
     "name": "stdout",
     "output_type": "stream",
     "text": [
      "image: 6 \t PSNR: 35.41910777495011 \t mean PSNR: 35.38396019388109\n",
      "--------------------imgae: 7  ------------------------------------\n"
     ]
    },
    {
     "name": "stderr",
     "output_type": "stream",
     "text": [
      "100%|██████████| 1/1 [00:06<00:00,  6.65s/it]\n"
     ]
    },
    {
     "name": "stdout",
     "output_type": "stream",
     "text": [
      "image: 7 \t PSNR: 35.356940675992206 \t mean PSNR: 35.38058275414498\n",
      "--------------------imgae: 8  ------------------------------------\n"
     ]
    },
    {
     "name": "stderr",
     "output_type": "stream",
     "text": [
      "100%|██████████| 1/1 [00:05<00:00,  5.74s/it]\n"
     ]
    },
    {
     "name": "stdout",
     "output_type": "stream",
     "text": [
      "image: 8 \t PSNR: 35.46708392057861 \t mean PSNR: 35.39019399485983\n",
      "--------------------imgae: 9  ------------------------------------\n"
     ]
    },
    {
     "name": "stderr",
     "output_type": "stream",
     "text": [
      "100%|██████████| 1/1 [00:05<00:00,  5.77s/it]\n"
     ]
    },
    {
     "name": "stdout",
     "output_type": "stream",
     "text": [
      "image: 9 \t PSNR: 35.32443284040847 \t mean PSNR: 35.38361787941469\n",
      "--------------------imgae: 10  ------------------------------------\n"
     ]
    },
    {
     "name": "stderr",
     "output_type": "stream",
     "text": [
      "100%|██████████| 1/1 [00:05<00:00,  5.88s/it]\n"
     ]
    },
    {
     "name": "stdout",
     "output_type": "stream",
     "text": [
      "image: 10 \t PSNR: 35.472929317242546 \t mean PSNR: 35.39173710103541\n",
      "--------------------imgae: 11  ------------------------------------\n"
     ]
    },
    {
     "name": "stderr",
     "output_type": "stream",
     "text": [
      "100%|██████████| 1/1 [00:06<00:00,  6.81s/it]\n"
     ]
    },
    {
     "name": "stdout",
     "output_type": "stream",
     "text": [
      "image: 11 \t PSNR: 35.48209158055038 \t mean PSNR: 35.39926664099499\n",
      "--------------------imgae: 12  ------------------------------------\n"
     ]
    },
    {
     "name": "stderr",
     "output_type": "stream",
     "text": [
      "100%|██████████| 1/1 [00:06<00:00,  6.76s/it]\n"
     ]
    },
    {
     "name": "stdout",
     "output_type": "stream",
     "text": [
      "image: 12 \t PSNR: 35.36493273727388 \t mean PSNR: 35.39662557147798\n",
      "--------------------imgae: 13  ------------------------------------\n"
     ]
    },
    {
     "name": "stderr",
     "output_type": "stream",
     "text": [
      "100%|██████████| 1/1 [00:06<00:00,  6.58s/it]\n"
     ]
    },
    {
     "name": "stdout",
     "output_type": "stream",
     "text": [
      "image: 13 \t PSNR: 35.41845373164761 \t mean PSNR: 35.39818472577581\n",
      "--------------------imgae: 14  ------------------------------------\n"
     ]
    },
    {
     "name": "stderr",
     "output_type": "stream",
     "text": [
      "100%|██████████| 1/1 [00:08<00:00,  8.11s/it]\n"
     ]
    },
    {
     "name": "stdout",
     "output_type": "stream",
     "text": [
      "image: 14 \t PSNR: 35.45504810913735 \t mean PSNR: 35.401975617999916\n",
      "--------------------imgae: 15  ------------------------------------\n"
     ]
    },
    {
     "name": "stderr",
     "output_type": "stream",
     "text": [
      "100%|██████████| 1/1 [00:09<00:00,  9.63s/it]\n"
     ]
    },
    {
     "name": "stdout",
     "output_type": "stream",
     "text": [
      "image: 15 \t PSNR: 35.402899494314674 \t mean PSNR: 35.402033360269584\n",
      "--------------------imgae: 16  ------------------------------------\n"
     ]
    },
    {
     "name": "stderr",
     "output_type": "stream",
     "text": [
      "100%|██████████| 1/1 [00:09<00:00,  9.32s/it]\n"
     ]
    },
    {
     "name": "stdout",
     "output_type": "stream",
     "text": [
      "image: 16 \t PSNR: 35.47403954393185 \t mean PSNR: 35.40626901813207\n",
      "--------------------imgae: 17  ------------------------------------\n"
     ]
    },
    {
     "name": "stderr",
     "output_type": "stream",
     "text": [
      "100%|██████████| 1/1 [00:10<00:00, 10.93s/it]\n"
     ]
    },
    {
     "name": "stdout",
     "output_type": "stream",
     "text": [
      "image: 17 \t PSNR: 35.382238410177266 \t mean PSNR: 35.4049339843568\n",
      "--------------------imgae: 18  ------------------------------------\n"
     ]
    },
    {
     "name": "stderr",
     "output_type": "stream",
     "text": [
      "100%|██████████| 1/1 [00:07<00:00,  7.76s/it]\n"
     ]
    },
    {
     "name": "stdout",
     "output_type": "stream",
     "text": [
      "image: 18 \t PSNR: 35.47300470957294 \t mean PSNR: 35.40851665410502\n",
      "--------------------imgae: 19  ------------------------------------\n"
     ]
    },
    {
     "name": "stderr",
     "output_type": "stream",
     "text": [
      "100%|██████████| 1/1 [00:07<00:00,  7.12s/it]\n"
     ]
    },
    {
     "name": "stdout",
     "output_type": "stream",
     "text": [
      "image: 19 \t PSNR: 35.351803850734214 \t mean PSNR: 35.40568101393648\n",
      "--------------------imgae: 20  ------------------------------------\n"
     ]
    },
    {
     "name": "stderr",
     "output_type": "stream",
     "text": [
      "100%|██████████| 1/1 [00:07<00:00,  7.21s/it]\n"
     ]
    },
    {
     "name": "stdout",
     "output_type": "stream",
     "text": [
      "image: 20 \t PSNR: 35.43204308438775 \t mean PSNR: 35.40693635062463\n",
      "--------------------imgae: 21  ------------------------------------\n"
     ]
    },
    {
     "name": "stderr",
     "output_type": "stream",
     "text": [
      "100%|██████████| 1/1 [00:06<00:00,  6.49s/it]\n"
     ]
    },
    {
     "name": "stdout",
     "output_type": "stream",
     "text": [
      "image: 21 \t PSNR: 35.32574998135777 \t mean PSNR: 35.403246061112505\n",
      "--------------------imgae: 22  ------------------------------------\n"
     ]
    },
    {
     "name": "stderr",
     "output_type": "stream",
     "text": [
      "100%|██████████| 1/1 [00:05<00:00,  5.49s/it]\n"
     ]
    },
    {
     "name": "stdout",
     "output_type": "stream",
     "text": [
      "image: 22 \t PSNR: 35.35565077303077 \t mean PSNR: 35.40117670076113\n",
      "--------------------imgae: 23  ------------------------------------\n"
     ]
    },
    {
     "name": "stderr",
     "output_type": "stream",
     "text": [
      "100%|██████████| 1/1 [00:06<00:00,  6.37s/it]\n"
     ]
    },
    {
     "name": "stdout",
     "output_type": "stream",
     "text": [
      "image: 23 \t PSNR: 35.488319429819725 \t mean PSNR: 35.404807647805235\n",
      "--------------------imgae: 24  ------------------------------------\n"
     ]
    },
    {
     "name": "stderr",
     "output_type": "stream",
     "text": [
      "100%|██████████| 1/1 [00:06<00:00,  6.14s/it]\n"
     ]
    },
    {
     "name": "stdout",
     "output_type": "stream",
     "text": [
      "image: 24 \t PSNR: 35.43126342870312 \t mean PSNR: 35.40586587904115\n",
      "--------------------imgae: 25  ------------------------------------\n"
     ]
    },
    {
     "name": "stderr",
     "output_type": "stream",
     "text": [
      "100%|██████████| 1/1 [00:05<00:00,  5.62s/it]\n"
     ]
    },
    {
     "name": "stdout",
     "output_type": "stream",
     "text": [
      "image: 25 \t PSNR: 35.43423228064308 \t mean PSNR: 35.40695689448738\n",
      "--------------------imgae: 26  ------------------------------------\n"
     ]
    },
    {
     "name": "stderr",
     "output_type": "stream",
     "text": [
      "100%|██████████| 1/1 [00:08<00:00,  8.85s/it]\n"
     ]
    },
    {
     "name": "stdout",
     "output_type": "stream",
     "text": [
      "image: 26 \t PSNR: 35.41430898414333 \t mean PSNR: 35.40722919410427\n",
      "--------------------imgae: 27  ------------------------------------\n"
     ]
    },
    {
     "name": "stderr",
     "output_type": "stream",
     "text": [
      "100%|██████████| 1/1 [00:08<00:00,  8.81s/it]\n"
     ]
    },
    {
     "name": "stdout",
     "output_type": "stream",
     "text": [
      "image: 27 \t PSNR: 35.401171150434415 \t mean PSNR: 35.40701283540177\n",
      "--------------------imgae: 28  ------------------------------------\n"
     ]
    },
    {
     "name": "stderr",
     "output_type": "stream",
     "text": [
      "100%|██████████| 1/1 [00:07<00:00,  7.78s/it]\n"
     ]
    },
    {
     "name": "stdout",
     "output_type": "stream",
     "text": [
      "image: 28 \t PSNR: 35.47736925908919 \t mean PSNR: 35.4094389189772\n",
      "--------------------imgae: 29  ------------------------------------\n"
     ]
    },
    {
     "name": "stderr",
     "output_type": "stream",
     "text": [
      "100%|██████████| 1/1 [00:05<00:00,  5.55s/it]\n"
     ]
    },
    {
     "name": "stdout",
     "output_type": "stream",
     "text": [
      "image: 29 \t PSNR: 35.47118145697815 \t mean PSNR: 35.41149700357723\n",
      "--------------------imgae: 30  ------------------------------------\n"
     ]
    },
    {
     "name": "stderr",
     "output_type": "stream",
     "text": [
      "100%|██████████| 1/1 [00:05<00:00,  5.68s/it]\n"
     ]
    },
    {
     "name": "stdout",
     "output_type": "stream",
     "text": [
      "image: 30 \t PSNR: 35.473130639673826 \t mean PSNR: 35.413485185386804\n",
      "--------------------imgae: 31  ------------------------------------\n"
     ]
    },
    {
     "name": "stderr",
     "output_type": "stream",
     "text": [
      "100%|██████████| 1/1 [00:05<00:00,  5.53s/it]\n"
     ]
    },
    {
     "name": "stdout",
     "output_type": "stream",
     "text": [
      "image: 31 \t PSNR: 35.46097581409438 \t mean PSNR: 35.414969267533905\n",
      "--------------------imgae: 32  ------------------------------------\n"
     ]
    },
    {
     "name": "stderr",
     "output_type": "stream",
     "text": [
      "100%|██████████| 1/1 [00:06<00:00,  6.83s/it]\n"
     ]
    },
    {
     "name": "stdout",
     "output_type": "stream",
     "text": [
      "image: 32 \t PSNR: 35.51920443169709 \t mean PSNR: 35.41812790887218\n",
      "--------------------imgae: 33  ------------------------------------\n"
     ]
    },
    {
     "name": "stderr",
     "output_type": "stream",
     "text": [
      "100%|██████████| 1/1 [00:06<00:00,  6.77s/it]\n"
     ]
    },
    {
     "name": "stdout",
     "output_type": "stream",
     "text": [
      "image: 33 \t PSNR: 35.4364583350884 \t mean PSNR: 35.418667039055016\n",
      "--------------------imgae: 34  ------------------------------------\n"
     ]
    },
    {
     "name": "stderr",
     "output_type": "stream",
     "text": [
      "100%|██████████| 1/1 [00:06<00:00,  6.30s/it]\n"
     ]
    },
    {
     "name": "stdout",
     "output_type": "stream",
     "text": [
      "image: 34 \t PSNR: 35.473994660153025 \t mean PSNR: 35.42024782822924\n",
      "--------------------imgae: 35  ------------------------------------\n"
     ]
    },
    {
     "name": "stderr",
     "output_type": "stream",
     "text": [
      "100%|██████████| 1/1 [00:06<00:00,  6.91s/it]\n"
     ]
    },
    {
     "name": "stdout",
     "output_type": "stream",
     "text": [
      "image: 35 \t PSNR: 35.47218802412327 \t mean PSNR: 35.42169061144852\n",
      "--------------------imgae: 36  ------------------------------------\n"
     ]
    },
    {
     "name": "stderr",
     "output_type": "stream",
     "text": [
      "100%|██████████| 1/1 [00:05<00:00,  5.67s/it]\n"
     ]
    },
    {
     "name": "stdout",
     "output_type": "stream",
     "text": [
      "image: 36 \t PSNR: 35.52777783395199 \t mean PSNR: 35.42455783367834\n",
      "--------------------imgae: 37  ------------------------------------\n"
     ]
    },
    {
     "name": "stderr",
     "output_type": "stream",
     "text": [
      "100%|██████████| 1/1 [00:06<00:00,  6.57s/it]\n"
     ]
    },
    {
     "name": "stdout",
     "output_type": "stream",
     "text": [
      "image: 37 \t PSNR: 35.27706200132334 \t mean PSNR: 35.42067636440585\n",
      "--------------------imgae: 38  ------------------------------------\n"
     ]
    },
    {
     "name": "stderr",
     "output_type": "stream",
     "text": [
      "100%|██████████| 1/1 [00:05<00:00,  5.95s/it]\n"
     ]
    },
    {
     "name": "stdout",
     "output_type": "stream",
     "text": [
      "image: 38 \t PSNR: 35.35117364569837 \t mean PSNR: 35.41889424341335\n",
      "--------------------imgae: 39  ------------------------------------\n"
     ]
    },
    {
     "name": "stderr",
     "output_type": "stream",
     "text": [
      "100%|██████████| 1/1 [00:06<00:00,  6.69s/it]\n"
     ]
    },
    {
     "name": "stdout",
     "output_type": "stream",
     "text": [
      "image: 39 \t PSNR: 35.37114883218951 \t mean PSNR: 35.417700608132755\n",
      "--------------------imgae: 40  ------------------------------------\n"
     ]
    },
    {
     "name": "stderr",
     "output_type": "stream",
     "text": [
      "100%|██████████| 1/1 [00:06<00:00,  6.36s/it]\n"
     ]
    },
    {
     "name": "stdout",
     "output_type": "stream",
     "text": [
      "image: 40 \t PSNR: 35.33498898015236 \t mean PSNR: 35.41568325135274\n",
      "--------------------imgae: 41  ------------------------------------\n"
     ]
    },
    {
     "name": "stderr",
     "output_type": "stream",
     "text": [
      "100%|██████████| 1/1 [00:06<00:00,  6.31s/it]\n"
     ]
    },
    {
     "name": "stdout",
     "output_type": "stream",
     "text": [
      "image: 41 \t PSNR: 35.48112598697955 \t mean PSNR: 35.41724141172481\n",
      "--------------------imgae: 42  ------------------------------------\n"
     ]
    },
    {
     "name": "stderr",
     "output_type": "stream",
     "text": [
      "100%|██████████| 1/1 [00:06<00:00,  6.54s/it]\n"
     ]
    },
    {
     "name": "stdout",
     "output_type": "stream",
     "text": [
      "image: 42 \t PSNR: 35.44849597948006 \t mean PSNR: 35.41796826213772\n",
      "--------------------imgae: 43  ------------------------------------\n"
     ]
    },
    {
     "name": "stderr",
     "output_type": "stream",
     "text": [
      "100%|██████████| 1/1 [00:06<00:00,  6.69s/it]\n"
     ]
    },
    {
     "name": "stdout",
     "output_type": "stream",
     "text": [
      "image: 43 \t PSNR: 35.54268140392102 \t mean PSNR: 35.420802651723704\n",
      "--------------------imgae: 44  ------------------------------------\n"
     ]
    },
    {
     "name": "stderr",
     "output_type": "stream",
     "text": [
      "100%|██████████| 1/1 [00:09<00:00,  9.21s/it]\n"
     ]
    },
    {
     "name": "stdout",
     "output_type": "stream",
     "text": [
      "image: 44 \t PSNR: 35.57121703830243 \t mean PSNR: 35.424145193647675\n",
      "--------------------imgae: 45  ------------------------------------\n"
     ]
    },
    {
     "name": "stderr",
     "output_type": "stream",
     "text": [
      "100%|██████████| 1/1 [00:07<00:00,  7.53s/it]\n"
     ]
    },
    {
     "name": "stdout",
     "output_type": "stream",
     "text": [
      "image: 45 \t PSNR: 35.432764679895705 \t mean PSNR: 35.4243325737835\n",
      "--------------------imgae: 46  ------------------------------------\n"
     ]
    },
    {
     "name": "stderr",
     "output_type": "stream",
     "text": [
      "100%|██████████| 1/1 [00:05<00:00,  5.66s/it]\n"
     ]
    },
    {
     "name": "stdout",
     "output_type": "stream",
     "text": [
      "image: 46 \t PSNR: 35.380729763835 \t mean PSNR: 35.42340485442289\n",
      "--------------------imgae: 47  ------------------------------------\n"
     ]
    },
    {
     "name": "stderr",
     "output_type": "stream",
     "text": [
      "\r",
      "  0%|          | 0/1 [00:00<?, ?it/s]"
     ]
    }
   ],
   "source": [
    "offset=0\n",
    "from tqdm import tqdm\n",
    "psnrs=[]\n",
    "\n",
    "for img_idx in range(noisy.shape[0]):\n",
    "    print(\"--------------------imgae:\", img_idx, \" ------------------------------------\")\n",
    "    denoisedImgs=[]\n",
    "    mses=[]\n",
    "    bestMSE = None\n",
    "    bestImg = None\n",
    "    bestSig= None\n",
    "    \n",
    "    for s in tqdm(range(1)):\n",
    "#         sig = (s+1)*2.5\n",
    "        sig = 3*2.5\n",
    "\n",
    "        img=noisy[img_idx,...]\n",
    "        cl= clean[0]\n",
    "\n",
    "        \n",
    "        ans=anscombe(img-offset)\n",
    "        denoised = inverse_anscombe (bm3d (ans,sig)) + offset\n",
    "\n",
    "\n",
    "        mse = np.mean((cl-denoised)**2)\n",
    "        mses.append(mse)\n",
    "        denoisedImgs.append(denoised.copy())\n",
    "\n",
    "        if bestMSE is None or (mse<bestMSE):\n",
    "            bestImg = denoised.copy()\n",
    "            bestMSE = mse\n",
    "            bestSig = sig\n",
    "        \n",
    "    rangePSNR = np.max(cl)-np.min(cl)\n",
    "    psnr = PSNR(cl, bestImg, rangePSNR)\n",
    "    psnrs.append(psnr)\n",
    "    print(\"image:\", img_idx, \"\\t PSNR:\", psnr, \"\\t mean PSNR:\", np.mean(psnrs))\n"
   ]
  },
  {
   "cell_type": "code",
   "execution_count": null,
   "metadata": {
    "collapsed": true
   },
   "outputs": [],
   "source": []
  }
 ],
 "metadata": {
  "kernelspec": {
   "display_name": "bm3d",
   "language": "python",
   "name": "bm3d"
  },
  "language_info": {
   "codemirror_mode": {
    "name": "ipython",
    "version": 3
   },
   "file_extension": ".py",
   "mimetype": "text/x-python",
   "name": "python",
   "nbconvert_exporter": "python",
   "pygments_lexer": "ipython3",
   "version": "3.6.12"
  }
 },
 "nbformat": 4,
 "nbformat_minor": 4
}
