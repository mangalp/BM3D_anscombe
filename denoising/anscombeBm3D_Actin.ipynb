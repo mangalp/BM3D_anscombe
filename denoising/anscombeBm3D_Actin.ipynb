{
 "cells": [
  {
   "cell_type": "code",
   "execution_count": 2,
   "metadata": {
    "collapsed": true
   },
   "outputs": [],
   "source": [
    "import numpy as np\n",
    "#\n",
    "# The function in this file follow closely after the MATLAB scripts\n",
    "# written by Alessandro Foi and Markku Makitalo - Tampere University\n",
    "# of Technology - 2011-2012\n",
    "#\n",
    "#    http://www.cs.tut.fi/~foi/invansc/\n",
    "#\n",
    "# that accompanies their paper:\n",
    "#\n",
    "#    Reference: M. Makitalo and A. Foi, \"Optimal inversion of the\n",
    "#    generalized Anscombe transformation for Poisson-Gaussian noise\",\n",
    "#    IEEE Trans. Image Process., doi:10.1109/TIP.2012.2202675\n",
    "\n",
    "\n",
    "#-------- Variance stabilizing transforms -----------\n",
    "\n",
    "def anscombe(x):\n",
    "    '''\n",
    "    Compute the anscombe variance stabilizing transform.\n",
    "      the input   x   is noisy Poisson-distributed data\n",
    "      the output  fx  has variance approximately equal to 1.\n",
    "    Reference: Anscombe, F. J. (1948), \"The transformation of Poisson,\n",
    "    binomial and negative-binomial data\", Biometrika 35 (3-4): 246-254\n",
    "    '''\n",
    "    return 2.0*np.sqrt(x + 3.0/8.0)\n",
    "\n",
    "def inverse_anscombe(z):\n",
    "    '''\n",
    "    Compute the inverse transform using an approximation of the exact\n",
    "    unbiased inverse.\n",
    "    Reference: Makitalo, M., & Foi, A. (2011). A closed-form\n",
    "    approximation of the exact unbiased inverse of the Anscombe\n",
    "    variance-stabilizing transformation. Image Processing.\n",
    "    '''\n",
    "    #return (z/2.0)**2 - 3.0/8.0\n",
    "    return (1.0/4.0 * np.power(z, 2) +\n",
    "            1.0/4.0 * np.sqrt(3.0/2.0) * np.power(z, -1.0) -\n",
    "            11.0/8.0 * np.power(z, -2.0) + \n",
    "            5.0/8.0 * np.sqrt(3.0/2.0) * np.power(z, -3.0) - 1.0 / 8.0)\n",
    "\n",
    "def generalized_anscombe(x, mu, sigma, gain=1.0):\n",
    "    '''\n",
    "    Compute the generalized anscombe variance stabilizing transform,\n",
    "    which assumes that the data provided to it is a mixture of poisson\n",
    "    and gaussian noise.\n",
    "    The input signal  z  is assumed to follow the Poisson-Gaussian noise model\n",
    "        x = gain * p + n\n",
    "    where gain is the camera gain and mu and sigma are the read noise\n",
    "    mean and standard deviation.\n",
    "    We assume that x contains only positive values.  Values that are\n",
    "    less than or equal to 0 are ignored by the transform.\n",
    "    Note, this transform will show some bias for counts less than\n",
    "    about 20.\n",
    "    '''\n",
    "    y = gain*x + (gain**2)*3.0/8.0 + sigma**2 - gain*mu\n",
    "\n",
    "    # Clamp to zero before taking the square root.\n",
    "    return (2.0/gain)*np.sqrt(np.maximum(y, 0.0))\n",
    "\n",
    "def inverse_generalized_anscombe(x, mu, sigma, gain=1.0):\n",
    "    '''\n",
    "    Applies the closed-form approximation of the exact unbiased\n",
    "    inverse of Generalized Anscombe variance-stabilizing\n",
    "    transformation.\n",
    "    The input signal x is transform back into a Poisson random variable\n",
    "    based on the assumption that the original signal from which it was\n",
    "    derived follows the Poisson-Gaussian noise model:\n",
    "        x = gain * p + n\n",
    "    where gain is the camera gain and mu and sigma are the read noise\n",
    "    mean and standard deviation.\n",
    "    Roference: M. Makitalo and A. Foi, \"Optimal inversion of the\n",
    "    generalized Anscombe transformation for Poisson-Gaussian noise\",\n",
    "    IEEE Trans. Image Process., doi:10.1109/TIP.2012.2202675\n",
    "    '''\n",
    "    test = np.maximum(x, 1.0)\n",
    "    exact_inverse = ( np.power(test/2.0, 2.0) +\n",
    "                      1.0/4.0 * np.sqrt(3.0/2.0)*np.power(test, -1.0) -\n",
    "                      11.0/8.0 * np.power(test, -2.0) +\n",
    "                      5.0/8.0 * np.sqrt(3.0/2.0) * np.power(test, -3.0) -\n",
    "                      1.0/8.0 - np.power(sigma, 2) )\n",
    "    exact_inverse = np.maximum(0.0, exact_inverse)\n",
    "    exact_inverse *= gain\n",
    "    exact_inverse += mu\n",
    "    exact_inverse[np.where(exact_inverse != exact_inverse)] = 0.0\n",
    "    return exact_inverse\n",
    "\n",
    "#def inverse_generalized_anscombe(y,mu,sigma,gain=1.0):\n",
    "#    return (1.0/gain)*(gain*y/2.0)**2 - gain*3.0/8.0 - (sigma**2)/gain + mu"
   ]
  },
  {
   "cell_type": "code",
   "execution_count": 3,
   "metadata": {
    "collapsed": true
   },
   "outputs": [],
   "source": [
    "from bm3d import bm3d, BM3DProfile\n",
    "import numpy as np\n",
    "import scipy.misc\n",
    "from matplotlib import pyplot as plt\n",
    "from tifffile import imread, imsave"
   ]
  },
  {
   "cell_type": "code",
   "execution_count": 4,
   "metadata": {},
   "outputs": [
    {
     "name": "stdout",
     "output_type": "stream",
     "text": [
      "(100, 1024, 512)\n",
      "(1, 1024, 512)\n"
     ]
    }
   ],
   "source": [
    "path='/Users/prakash/Downloads/Mouse actin/'\n",
    "\n",
    "# Load the test data\n",
    "noisy=imread(path+\"sample_attempt2.tif\")[:,:,:512].astype(np.float32)\n",
    "# We are loading only a sub image to spped up computation\n",
    "\n",
    "# We estimate the ground truth by averaging.\n",
    "clean=np.mean(noisy[:,...],axis=0)[np.newaxis,...]\n",
    "\n",
    "print(noisy.shape)\n",
    "print(clean.shape)\n"
   ]
  },
  {
   "cell_type": "code",
   "execution_count": 5,
   "metadata": {
    "collapsed": true
   },
   "outputs": [],
   "source": [
    "def PSNR(gt, img, rangePSNR):\n",
    "    '''\n",
    "    Compute PSNR.\n",
    "    Parameters\n",
    "    ----------\n",
    "    gt: array\n",
    "        Ground truth image.\n",
    "    img: array\n",
    "        Predicted image.''\n",
    "    '''\n",
    "    mse = np.mean(np.square(gt - img))\n",
    "    return 20 * np.log10(rangePSNR) - 10 * np.log10(mse)"
   ]
  },
  {
   "cell_type": "code",
   "execution_count": null,
   "metadata": {
    "scrolled": false
   },
   "outputs": [
    {
     "name": "stdout",
     "output_type": "stream",
     "text": [
      "--------------------imgae: 0  ------------------------------------\n"
     ]
    },
    {
     "name": "stderr",
     "output_type": "stream",
     "text": [
      "100%|██████████| 1/1 [00:11<00:00, 11.91s/it]\n"
     ]
    },
    {
     "name": "stdout",
     "output_type": "stream",
     "text": [
      "image: 0 \t PSNR: 33.78143171184871 \t mean PSNR: 33.78143171184871\n",
      "--------------------imgae: 1  ------------------------------------\n"
     ]
    },
    {
     "name": "stderr",
     "output_type": "stream",
     "text": [
      "100%|██████████| 1/1 [00:11<00:00, 11.60s/it]\n"
     ]
    },
    {
     "name": "stdout",
     "output_type": "stream",
     "text": [
      "image: 1 \t PSNR: 33.74521790083202 \t mean PSNR: 33.763324806340364\n",
      "--------------------imgae: 2  ------------------------------------\n"
     ]
    },
    {
     "name": "stderr",
     "output_type": "stream",
     "text": [
      "100%|██████████| 1/1 [00:11<00:00, 11.63s/it]\n"
     ]
    },
    {
     "name": "stdout",
     "output_type": "stream",
     "text": [
      "image: 2 \t PSNR: 33.769482864911616 \t mean PSNR: 33.76537749253078\n",
      "--------------------imgae: 3  ------------------------------------\n"
     ]
    },
    {
     "name": "stderr",
     "output_type": "stream",
     "text": [
      "100%|██████████| 1/1 [00:11<00:00, 11.60s/it]\n"
     ]
    },
    {
     "name": "stdout",
     "output_type": "stream",
     "text": [
      "image: 3 \t PSNR: 33.757698887326036 \t mean PSNR: 33.763457841229595\n",
      "--------------------imgae: 4  ------------------------------------\n"
     ]
    },
    {
     "name": "stderr",
     "output_type": "stream",
     "text": [
      "100%|██████████| 1/1 [00:11<00:00, 11.61s/it]\n"
     ]
    },
    {
     "name": "stdout",
     "output_type": "stream",
     "text": [
      "image: 4 \t PSNR: 33.694012676136595 \t mean PSNR: 33.749568808210995\n",
      "--------------------imgae: 5  ------------------------------------\n"
     ]
    },
    {
     "name": "stderr",
     "output_type": "stream",
     "text": [
      "100%|██████████| 1/1 [00:11<00:00, 11.55s/it]\n"
     ]
    },
    {
     "name": "stdout",
     "output_type": "stream",
     "text": [
      "image: 5 \t PSNR: 33.66996064656471 \t mean PSNR: 33.73630078126995\n",
      "--------------------imgae: 6  ------------------------------------\n"
     ]
    },
    {
     "name": "stderr",
     "output_type": "stream",
     "text": [
      "100%|██████████| 1/1 [00:11<00:00, 11.61s/it]\n"
     ]
    },
    {
     "name": "stdout",
     "output_type": "stream",
     "text": [
      "image: 6 \t PSNR: 33.70153393531229 \t mean PSNR: 33.73133408899028\n",
      "--------------------imgae: 7  ------------------------------------\n"
     ]
    },
    {
     "name": "stderr",
     "output_type": "stream",
     "text": [
      "100%|██████████| 1/1 [00:11<00:00, 11.56s/it]\n"
     ]
    },
    {
     "name": "stdout",
     "output_type": "stream",
     "text": [
      "image: 7 \t PSNR: 33.70753528000837 \t mean PSNR: 33.728359237867544\n",
      "--------------------imgae: 8  ------------------------------------\n"
     ]
    },
    {
     "name": "stderr",
     "output_type": "stream",
     "text": [
      "100%|██████████| 1/1 [00:11<00:00, 11.58s/it]\n"
     ]
    },
    {
     "name": "stdout",
     "output_type": "stream",
     "text": [
      "image: 8 \t PSNR: 33.73257263934776 \t mean PSNR: 33.72882739358757\n",
      "--------------------imgae: 9  ------------------------------------\n"
     ]
    },
    {
     "name": "stderr",
     "output_type": "stream",
     "text": [
      "100%|██████████| 1/1 [00:11<00:00, 11.54s/it]\n"
     ]
    },
    {
     "name": "stdout",
     "output_type": "stream",
     "text": [
      "image: 9 \t PSNR: 33.692730610684166 \t mean PSNR: 33.725217715297234\n",
      "--------------------imgae: 10  ------------------------------------\n"
     ]
    },
    {
     "name": "stderr",
     "output_type": "stream",
     "text": [
      "100%|██████████| 1/1 [00:11<00:00, 11.59s/it]\n"
     ]
    },
    {
     "name": "stdout",
     "output_type": "stream",
     "text": [
      "image: 10 \t PSNR: 33.57203072545512 \t mean PSNR: 33.71129162531159\n",
      "--------------------imgae: 11  ------------------------------------\n"
     ]
    },
    {
     "name": "stderr",
     "output_type": "stream",
     "text": [
      "100%|██████████| 1/1 [00:12<00:00, 12.17s/it]\n"
     ]
    },
    {
     "name": "stdout",
     "output_type": "stream",
     "text": [
      "image: 11 \t PSNR: 33.67860520763051 \t mean PSNR: 33.708567757171494\n",
      "--------------------imgae: 12  ------------------------------------\n"
     ]
    },
    {
     "name": "stderr",
     "output_type": "stream",
     "text": [
      "100%|██████████| 1/1 [00:13<00:00, 13.79s/it]\n"
     ]
    },
    {
     "name": "stdout",
     "output_type": "stream",
     "text": [
      "image: 12 \t PSNR: 33.67549891789956 \t mean PSNR: 33.706024000304424\n",
      "--------------------imgae: 13  ------------------------------------\n"
     ]
    },
    {
     "name": "stderr",
     "output_type": "stream",
     "text": [
      "100%|██████████| 1/1 [00:13<00:00, 13.59s/it]\n"
     ]
    },
    {
     "name": "stdout",
     "output_type": "stream",
     "text": [
      "image: 13 \t PSNR: 33.76752824944897 \t mean PSNR: 33.710417160957604\n",
      "--------------------imgae: 14  ------------------------------------\n"
     ]
    },
    {
     "name": "stderr",
     "output_type": "stream",
     "text": [
      "100%|██████████| 1/1 [00:13<00:00, 13.08s/it]\n"
     ]
    },
    {
     "name": "stdout",
     "output_type": "stream",
     "text": [
      "image: 14 \t PSNR: 33.72741976741439 \t mean PSNR: 33.71155066805473\n",
      "--------------------imgae: 15  ------------------------------------\n"
     ]
    },
    {
     "name": "stderr",
     "output_type": "stream",
     "text": [
      "100%|██████████| 1/1 [00:13<00:00, 13.37s/it]\n"
     ]
    },
    {
     "name": "stdout",
     "output_type": "stream",
     "text": [
      "image: 15 \t PSNR: 33.537057284793796 \t mean PSNR: 33.70064483160091\n",
      "--------------------imgae: 16  ------------------------------------\n"
     ]
    },
    {
     "name": "stderr",
     "output_type": "stream",
     "text": [
      "100%|██████████| 1/1 [00:14<00:00, 14.82s/it]\n"
     ]
    },
    {
     "name": "stdout",
     "output_type": "stream",
     "text": [
      "image: 16 \t PSNR: 33.40204550259281 \t mean PSNR: 33.68308016518867\n",
      "--------------------imgae: 17  ------------------------------------\n"
     ]
    },
    {
     "name": "stderr",
     "output_type": "stream",
     "text": [
      "100%|██████████| 1/1 [00:15<00:00, 15.57s/it]\n"
     ]
    },
    {
     "name": "stdout",
     "output_type": "stream",
     "text": [
      "image: 17 \t PSNR: 33.66629356000174 \t mean PSNR: 33.682147576011616\n",
      "--------------------imgae: 18  ------------------------------------\n"
     ]
    },
    {
     "name": "stderr",
     "output_type": "stream",
     "text": [
      "100%|██████████| 1/1 [00:15<00:00, 15.94s/it]\n"
     ]
    },
    {
     "name": "stdout",
     "output_type": "stream",
     "text": [
      "image: 18 \t PSNR: 33.6644662224138 \t mean PSNR: 33.68121697845384\n",
      "--------------------imgae: 19  ------------------------------------\n"
     ]
    },
    {
     "name": "stderr",
     "output_type": "stream",
     "text": [
      "100%|██████████| 1/1 [00:15<00:00, 15.31s/it]\n"
     ]
    },
    {
     "name": "stdout",
     "output_type": "stream",
     "text": [
      "image: 19 \t PSNR: 33.483855909192826 \t mean PSNR: 33.67134892499079\n",
      "--------------------imgae: 20  ------------------------------------\n"
     ]
    },
    {
     "name": "stderr",
     "output_type": "stream",
     "text": [
      "100%|██████████| 1/1 [00:15<00:00, 15.05s/it]\n"
     ]
    },
    {
     "name": "stdout",
     "output_type": "stream",
     "text": [
      "image: 20 \t PSNR: 33.748900044725815 \t mean PSNR: 33.67504183545436\n",
      "--------------------imgae: 21  ------------------------------------\n"
     ]
    },
    {
     "name": "stderr",
     "output_type": "stream",
     "text": [
      "100%|██████████| 1/1 [00:14<00:00, 14.67s/it]\n"
     ]
    },
    {
     "name": "stdout",
     "output_type": "stream",
     "text": [
      "image: 21 \t PSNR: 33.66797909448749 \t mean PSNR: 33.67472080177404\n",
      "--------------------imgae: 22  ------------------------------------\n"
     ]
    },
    {
     "name": "stderr",
     "output_type": "stream",
     "text": [
      "100%|██████████| 1/1 [00:14<00:00, 14.84s/it]\n"
     ]
    },
    {
     "name": "stdout",
     "output_type": "stream",
     "text": [
      "image: 22 \t PSNR: 33.73558816415119 \t mean PSNR: 33.67736720883392\n",
      "--------------------imgae: 23  ------------------------------------\n"
     ]
    },
    {
     "name": "stderr",
     "output_type": "stream",
     "text": [
      "100%|██████████| 1/1 [00:14<00:00, 14.83s/it]\n"
     ]
    },
    {
     "name": "stdout",
     "output_type": "stream",
     "text": [
      "image: 23 \t PSNR: 33.73735961055051 \t mean PSNR: 33.679866892238785\n",
      "--------------------imgae: 24  ------------------------------------\n"
     ]
    },
    {
     "name": "stderr",
     "output_type": "stream",
     "text": [
      "100%|██████████| 1/1 [00:15<00:00, 15.02s/it]\n"
     ]
    },
    {
     "name": "stdout",
     "output_type": "stream",
     "text": [
      "image: 24 \t PSNR: 33.76149218036228 \t mean PSNR: 33.68313190376372\n",
      "--------------------imgae: 25  ------------------------------------\n"
     ]
    },
    {
     "name": "stderr",
     "output_type": "stream",
     "text": [
      "100%|██████████| 1/1 [00:14<00:00, 14.85s/it]\n"
     ]
    },
    {
     "name": "stdout",
     "output_type": "stream",
     "text": [
      "image: 25 \t PSNR: 33.72107449497056 \t mean PSNR: 33.684591234194755\n",
      "--------------------imgae: 26  ------------------------------------\n"
     ]
    },
    {
     "name": "stderr",
     "output_type": "stream",
     "text": [
      "100%|██████████| 1/1 [00:14<00:00, 14.49s/it]\n"
     ]
    },
    {
     "name": "stdout",
     "output_type": "stream",
     "text": [
      "image: 26 \t PSNR: 33.634739358472146 \t mean PSNR: 33.68274486842726\n",
      "--------------------imgae: 27  ------------------------------------\n"
     ]
    },
    {
     "name": "stderr",
     "output_type": "stream",
     "text": [
      "100%|██████████| 1/1 [00:12<00:00, 12.18s/it]\n"
     ]
    },
    {
     "name": "stdout",
     "output_type": "stream",
     "text": [
      "image: 27 \t PSNR: 33.707748257465454 \t mean PSNR: 33.68363784660719\n",
      "--------------------imgae: 28  ------------------------------------\n"
     ]
    },
    {
     "name": "stderr",
     "output_type": "stream",
     "text": [
      "100%|██████████| 1/1 [00:11<00:00, 11.69s/it]\n"
     ]
    },
    {
     "name": "stdout",
     "output_type": "stream",
     "text": [
      "image: 28 \t PSNR: 33.723280209707845 \t mean PSNR: 33.68500482464514\n",
      "--------------------imgae: 29  ------------------------------------\n"
     ]
    },
    {
     "name": "stderr",
     "output_type": "stream",
     "text": [
      "100%|██████████| 1/1 [00:14<00:00, 14.92s/it]\n"
     ]
    },
    {
     "name": "stdout",
     "output_type": "stream",
     "text": [
      "image: 29 \t PSNR: 33.753459770570835 \t mean PSNR: 33.687286656176\n",
      "--------------------imgae: 30  ------------------------------------\n"
     ]
    },
    {
     "name": "stderr",
     "output_type": "stream",
     "text": [
      "100%|██████████| 1/1 [00:13<00:00, 13.88s/it]\n"
     ]
    },
    {
     "name": "stdout",
     "output_type": "stream",
     "text": [
      "image: 30 \t PSNR: 33.7124810955493 \t mean PSNR: 33.68809938002675\n",
      "--------------------imgae: 31  ------------------------------------\n"
     ]
    },
    {
     "name": "stderr",
     "output_type": "stream",
     "text": [
      "100%|██████████| 1/1 [00:12<00:00, 12.48s/it]\n"
     ]
    },
    {
     "name": "stdout",
     "output_type": "stream",
     "text": [
      "image: 31 \t PSNR: 33.68328614458785 \t mean PSNR: 33.687948966419285\n",
      "--------------------imgae: 32  ------------------------------------\n"
     ]
    },
    {
     "name": "stderr",
     "output_type": "stream",
     "text": [
      "100%|██████████| 1/1 [00:11<00:00, 11.45s/it]\n"
     ]
    },
    {
     "name": "stdout",
     "output_type": "stream",
     "text": [
      "image: 32 \t PSNR: 33.73845871964762 \t mean PSNR: 33.68947956500197\n",
      "--------------------imgae: 33  ------------------------------------\n"
     ]
    },
    {
     "name": "stderr",
     "output_type": "stream",
     "text": [
      "100%|██████████| 1/1 [00:11<00:00, 11.48s/it]\n"
     ]
    },
    {
     "name": "stdout",
     "output_type": "stream",
     "text": [
      "image: 33 \t PSNR: 33.72085620693336 \t mean PSNR: 33.69040240741171\n",
      "--------------------imgae: 34  ------------------------------------\n"
     ]
    },
    {
     "name": "stderr",
     "output_type": "stream",
     "text": [
      "100%|██████████| 1/1 [00:11<00:00, 11.55s/it]\n"
     ]
    },
    {
     "name": "stdout",
     "output_type": "stream",
     "text": [
      "image: 34 \t PSNR: 33.644225175395206 \t mean PSNR: 33.68908305792552\n",
      "--------------------imgae: 35  ------------------------------------\n"
     ]
    },
    {
     "name": "stderr",
     "output_type": "stream",
     "text": [
      "100%|██████████| 1/1 [00:11<00:00, 11.62s/it]\n"
     ]
    },
    {
     "name": "stdout",
     "output_type": "stream",
     "text": [
      "image: 35 \t PSNR: 33.58409520945171 \t mean PSNR: 33.686166728801254\n",
      "--------------------imgae: 36  ------------------------------------\n"
     ]
    },
    {
     "name": "stderr",
     "output_type": "stream",
     "text": [
      "100%|██████████| 1/1 [00:11<00:00, 11.70s/it]\n"
     ]
    },
    {
     "name": "stdout",
     "output_type": "stream",
     "text": [
      "image: 36 \t PSNR: 33.659577031788174 \t mean PSNR: 33.68544808834144\n",
      "--------------------imgae: 37  ------------------------------------\n"
     ]
    },
    {
     "name": "stderr",
     "output_type": "stream",
     "text": [
      "100%|██████████| 1/1 [00:11<00:00, 11.69s/it]\n"
     ]
    },
    {
     "name": "stdout",
     "output_type": "stream",
     "text": [
      "image: 37 \t PSNR: 33.67677457984948 \t mean PSNR: 33.685219838117966\n",
      "--------------------imgae: 38  ------------------------------------\n"
     ]
    },
    {
     "name": "stderr",
     "output_type": "stream",
     "text": [
      "100%|██████████| 1/1 [00:11<00:00, 11.68s/it]\n"
     ]
    },
    {
     "name": "stdout",
     "output_type": "stream",
     "text": [
      "image: 38 \t PSNR: 33.66189946329094 \t mean PSNR: 33.68462187978907\n",
      "--------------------imgae: 39  ------------------------------------\n"
     ]
    },
    {
     "name": "stderr",
     "output_type": "stream",
     "text": [
      "100%|██████████| 1/1 [00:11<00:00, 11.64s/it]\n"
     ]
    },
    {
     "name": "stdout",
     "output_type": "stream",
     "text": [
      "image: 39 \t PSNR: 33.56640783072035 \t mean PSNR: 33.681666528562346\n",
      "--------------------imgae: 40  ------------------------------------\n"
     ]
    },
    {
     "name": "stderr",
     "output_type": "stream",
     "text": [
      "100%|██████████| 1/1 [00:11<00:00, 11.64s/it]\n"
     ]
    },
    {
     "name": "stdout",
     "output_type": "stream",
     "text": [
      "image: 40 \t PSNR: 33.66962825492014 \t mean PSNR: 33.68137291213205\n",
      "--------------------imgae: 41  ------------------------------------\n"
     ]
    },
    {
     "name": "stderr",
     "output_type": "stream",
     "text": [
      "100%|██████████| 1/1 [00:11<00:00, 11.68s/it]\n"
     ]
    },
    {
     "name": "stdout",
     "output_type": "stream",
     "text": [
      "image: 41 \t PSNR: 33.58161564840137 \t mean PSNR: 33.67899773918608\n",
      "--------------------imgae: 42  ------------------------------------\n"
     ]
    },
    {
     "name": "stderr",
     "output_type": "stream",
     "text": [
      "100%|██████████| 1/1 [00:11<00:00, 11.65s/it]\n"
     ]
    },
    {
     "name": "stdout",
     "output_type": "stream",
     "text": [
      "image: 42 \t PSNR: 33.40033034852693 \t mean PSNR: 33.67251710219401\n",
      "--------------------imgae: 43  ------------------------------------\n"
     ]
    },
    {
     "name": "stderr",
     "output_type": "stream",
     "text": [
      "100%|██████████| 1/1 [00:11<00:00, 11.66s/it]\n"
     ]
    },
    {
     "name": "stdout",
     "output_type": "stream",
     "text": [
      "image: 43 \t PSNR: 33.52865536651383 \t mean PSNR: 33.669247517292185\n",
      "--------------------imgae: 44  ------------------------------------\n"
     ]
    },
    {
     "name": "stderr",
     "output_type": "stream",
     "text": [
      "100%|██████████| 1/1 [00:11<00:00, 11.66s/it]\n"
     ]
    },
    {
     "name": "stdout",
     "output_type": "stream",
     "text": [
      "image: 44 \t PSNR: 33.534584544028036 \t mean PSNR: 33.66625500677521\n",
      "--------------------imgae: 45  ------------------------------------\n"
     ]
    },
    {
     "name": "stderr",
     "output_type": "stream",
     "text": [
      "100%|██████████| 1/1 [00:11<00:00, 11.63s/it]\n"
     ]
    },
    {
     "name": "stdout",
     "output_type": "stream",
     "text": [
      "image: 45 \t PSNR: 33.653699411128855 \t mean PSNR: 33.66598205904376\n",
      "--------------------imgae: 46  ------------------------------------\n"
     ]
    },
    {
     "name": "stderr",
     "output_type": "stream",
     "text": [
      "100%|██████████| 1/1 [00:11<00:00, 11.68s/it]\n"
     ]
    },
    {
     "name": "stdout",
     "output_type": "stream",
     "text": [
      "image: 46 \t PSNR: 33.629383158489844 \t mean PSNR: 33.66520335903198\n",
      "--------------------imgae: 47  ------------------------------------\n"
     ]
    },
    {
     "name": "stderr",
     "output_type": "stream",
     "text": [
      "100%|██████████| 1/1 [00:12<00:00, 12.59s/it]\n"
     ]
    },
    {
     "name": "stdout",
     "output_type": "stream",
     "text": [
      "image: 47 \t PSNR: 33.58907903867305 \t mean PSNR: 33.66361743569117\n",
      "--------------------imgae: 48  ------------------------------------\n"
     ]
    },
    {
     "name": "stderr",
     "output_type": "stream",
     "text": [
      "100%|██████████| 1/1 [00:13<00:00, 13.75s/it]\n"
     ]
    },
    {
     "name": "stdout",
     "output_type": "stream",
     "text": [
      "image: 48 \t PSNR: 33.705120765956046 \t mean PSNR: 33.66446444243127\n",
      "--------------------imgae: 49  ------------------------------------\n"
     ]
    },
    {
     "name": "stderr",
     "output_type": "stream",
     "text": [
      "100%|██████████| 1/1 [00:14<00:00, 14.48s/it]\n"
     ]
    },
    {
     "name": "stdout",
     "output_type": "stream",
     "text": [
      "image: 49 \t PSNR: 33.56570076787102 \t mean PSNR: 33.66248916894006\n",
      "--------------------imgae: 50  ------------------------------------\n"
     ]
    },
    {
     "name": "stderr",
     "output_type": "stream",
     "text": [
      "100%|██████████| 1/1 [00:14<00:00, 14.77s/it]\n"
     ]
    },
    {
     "name": "stdout",
     "output_type": "stream",
     "text": [
      "image: 50 \t PSNR: 33.711603039243485 \t mean PSNR: 33.66345218600484\n",
      "--------------------imgae: 51  ------------------------------------\n"
     ]
    },
    {
     "name": "stderr",
     "output_type": "stream",
     "text": [
      "100%|██████████| 1/1 [00:13<00:00, 13.54s/it]\n"
     ]
    },
    {
     "name": "stdout",
     "output_type": "stream",
     "text": [
      "image: 51 \t PSNR: 33.59787911022799 \t mean PSNR: 33.66219116531682\n",
      "--------------------imgae: 52  ------------------------------------\n"
     ]
    },
    {
     "name": "stderr",
     "output_type": "stream",
     "text": [
      "100%|██████████| 1/1 [00:16<00:00, 16.86s/it]\n"
     ]
    },
    {
     "name": "stdout",
     "output_type": "stream",
     "text": [
      "image: 52 \t PSNR: 33.642653685974565 \t mean PSNR: 33.66182253363112\n",
      "--------------------imgae: 53  ------------------------------------\n"
     ]
    },
    {
     "name": "stderr",
     "output_type": "stream",
     "text": [
      "100%|██████████| 1/1 [00:15<00:00, 15.70s/it]\n"
     ]
    },
    {
     "name": "stdout",
     "output_type": "stream",
     "text": [
      "image: 53 \t PSNR: 33.60232393416105 \t mean PSNR: 33.66072070771501\n",
      "--------------------imgae: 54  ------------------------------------\n"
     ]
    },
    {
     "name": "stderr",
     "output_type": "stream",
     "text": [
      "100%|██████████| 1/1 [00:15<00:00, 15.24s/it]\n"
     ]
    },
    {
     "name": "stdout",
     "output_type": "stream",
     "text": [
      "image: 54 \t PSNR: 33.73671486689259 \t mean PSNR: 33.66210241970005\n",
      "--------------------imgae: 55  ------------------------------------\n"
     ]
    },
    {
     "name": "stderr",
     "output_type": "stream",
     "text": [
      "100%|██████████| 1/1 [00:13<00:00, 13.75s/it]\n"
     ]
    },
    {
     "name": "stdout",
     "output_type": "stream",
     "text": [
      "image: 55 \t PSNR: 33.62062401937699 \t mean PSNR: 33.66136173398\n",
      "--------------------imgae: 56  ------------------------------------\n"
     ]
    },
    {
     "name": "stderr",
     "output_type": "stream",
     "text": [
      "100%|██████████| 1/1 [00:14<00:00, 14.54s/it]\n"
     ]
    },
    {
     "name": "stdout",
     "output_type": "stream",
     "text": [
      "image: 56 \t PSNR: 33.459626835468185 \t mean PSNR: 33.65782252523418\n",
      "--------------------imgae: 57  ------------------------------------\n"
     ]
    },
    {
     "name": "stderr",
     "output_type": "stream",
     "text": [
      "100%|██████████| 1/1 [00:15<00:00, 15.38s/it]\n"
     ]
    },
    {
     "name": "stdout",
     "output_type": "stream",
     "text": [
      "image: 57 \t PSNR: 33.407170203677424 \t mean PSNR: 33.6535009334832\n",
      "--------------------imgae: 58  ------------------------------------\n"
     ]
    },
    {
     "name": "stderr",
     "output_type": "stream",
     "text": [
      "100%|██████████| 1/1 [00:21<00:00, 21.58s/it]\n"
     ]
    },
    {
     "name": "stdout",
     "output_type": "stream",
     "text": [
      "image: 58 \t PSNR: 33.632244146512384 \t mean PSNR: 33.65314064895827\n",
      "--------------------imgae: 59  ------------------------------------\n"
     ]
    },
    {
     "name": "stderr",
     "output_type": "stream",
     "text": [
      "100%|██████████| 1/1 [00:21<00:00, 21.51s/it]\n"
     ]
    },
    {
     "name": "stdout",
     "output_type": "stream",
     "text": [
      "image: 59 \t PSNR: 33.756312767761536 \t mean PSNR: 33.65486018427166\n",
      "--------------------imgae: 60  ------------------------------------\n"
     ]
    },
    {
     "name": "stderr",
     "output_type": "stream",
     "text": [
      "100%|██████████| 1/1 [00:16<00:00, 16.67s/it]\n"
     ]
    },
    {
     "name": "stdout",
     "output_type": "stream",
     "text": [
      "image: 60 \t PSNR: 33.601280636387024 \t mean PSNR: 33.65398183102765\n",
      "--------------------imgae: 61  ------------------------------------\n"
     ]
    },
    {
     "name": "stderr",
     "output_type": "stream",
     "text": [
      "100%|██████████| 1/1 [00:13<00:00, 13.61s/it]\n"
     ]
    },
    {
     "name": "stdout",
     "output_type": "stream",
     "text": [
      "image: 61 \t PSNR: 33.52275081139486 \t mean PSNR: 33.65186520167873\n",
      "--------------------imgae: 62  ------------------------------------\n"
     ]
    },
    {
     "name": "stderr",
     "output_type": "stream",
     "text": [
      "100%|██████████| 1/1 [00:13<00:00, 13.95s/it]\n"
     ]
    },
    {
     "name": "stdout",
     "output_type": "stream",
     "text": [
      "image: 62 \t PSNR: 33.52733901428863 \t mean PSNR: 33.64988859552969\n",
      "--------------------imgae: 63  ------------------------------------\n"
     ]
    },
    {
     "name": "stderr",
     "output_type": "stream",
     "text": [
      "100%|██████████| 1/1 [00:19<00:00, 19.94s/it]\n"
     ]
    },
    {
     "name": "stdout",
     "output_type": "stream",
     "text": [
      "image: 63 \t PSNR: 33.56454042875771 \t mean PSNR: 33.648555030423864\n",
      "--------------------imgae: 64  ------------------------------------\n"
     ]
    },
    {
     "name": "stderr",
     "output_type": "stream",
     "text": [
      "100%|██████████| 1/1 [00:14<00:00, 14.58s/it]\n"
     ]
    },
    {
     "name": "stdout",
     "output_type": "stream",
     "text": [
      "image: 64 \t PSNR: 33.60293825154794 \t mean PSNR: 33.64785323382578\n",
      "--------------------imgae: 65  ------------------------------------\n"
     ]
    },
    {
     "name": "stderr",
     "output_type": "stream",
     "text": [
      "100%|██████████| 1/1 [00:13<00:00, 13.91s/it]\n"
     ]
    },
    {
     "name": "stdout",
     "output_type": "stream",
     "text": [
      "image: 65 \t PSNR: 33.683394812384435 \t mean PSNR: 33.64839174259181\n",
      "--------------------imgae: 66  ------------------------------------\n"
     ]
    },
    {
     "name": "stderr",
     "output_type": "stream",
     "text": [
      "100%|██████████| 1/1 [00:15<00:00, 15.23s/it]\n"
     ]
    },
    {
     "name": "stdout",
     "output_type": "stream",
     "text": [
      "image: 66 \t PSNR: 33.36924037788461 \t mean PSNR: 33.644225304312606\n",
      "--------------------imgae: 67  ------------------------------------\n"
     ]
    },
    {
     "name": "stderr",
     "output_type": "stream",
     "text": [
      "100%|██████████| 1/1 [00:14<00:00, 14.75s/it]\n"
     ]
    },
    {
     "name": "stdout",
     "output_type": "stream",
     "text": [
      "image: 67 \t PSNR: 33.58714790540358 \t mean PSNR: 33.643385930799234\n",
      "--------------------imgae: 68  ------------------------------------\n"
     ]
    },
    {
     "name": "stderr",
     "output_type": "stream",
     "text": [
      "100%|██████████| 1/1 [00:14<00:00, 14.49s/it]\n"
     ]
    },
    {
     "name": "stdout",
     "output_type": "stream",
     "text": [
      "image: 68 \t PSNR: 33.53097161640238 \t mean PSNR: 33.641756737836964\n",
      "--------------------imgae: 69  ------------------------------------\n"
     ]
    },
    {
     "name": "stderr",
     "output_type": "stream",
     "text": [
      "100%|██████████| 1/1 [00:14<00:00, 14.91s/it]\n"
     ]
    },
    {
     "name": "stdout",
     "output_type": "stream",
     "text": [
      "image: 69 \t PSNR: 33.72240913205337 \t mean PSNR: 33.64290891489719\n",
      "--------------------imgae: 70  ------------------------------------\n"
     ]
    },
    {
     "name": "stderr",
     "output_type": "stream",
     "text": [
      "100%|██████████| 1/1 [00:15<00:00, 15.92s/it]\n"
     ]
    },
    {
     "name": "stdout",
     "output_type": "stream",
     "text": [
      "image: 70 \t PSNR: 33.43434385561672 \t mean PSNR: 33.63997137885099\n",
      "--------------------imgae: 71  ------------------------------------\n"
     ]
    },
    {
     "name": "stderr",
     "output_type": "stream",
     "text": [
      "\r",
      "  0%|          | 0/1 [00:00<?, ?it/s]"
     ]
    }
   ],
   "source": [
    "offset=0\n",
    "from tqdm import tqdm\n",
    "psnrs=[]\n",
    "\n",
    "for img_idx in range(noisy.shape[0]):\n",
    "    print(\"--------------------imgae:\", img_idx, \" ------------------------------------\")\n",
    "    denoisedImgs=[]\n",
    "    mses=[]\n",
    "    bestMSE = None\n",
    "    bestImg = None\n",
    "    bestSig= None\n",
    "    \n",
    "    for s in tqdm(range(1)):\n",
    "#         sig = (s+1)*2.5\n",
    "        sig = 2*2.5\n",
    "\n",
    "        img=noisy[img_idx,...]\n",
    "        cl= clean[0]\n",
    "\n",
    "        \n",
    "        ans=anscombe(img-offset)\n",
    "        denoised = inverse_anscombe (bm3d (ans,sig)) + offset\n",
    "\n",
    "\n",
    "        mse = np.mean((cl-denoised)**2)\n",
    "        mses.append(mse)\n",
    "        denoisedImgs.append(denoised.copy())\n",
    "\n",
    "        if bestMSE is None or (mse<bestMSE):\n",
    "            bestImg = denoised.copy()\n",
    "            bestMSE = mse\n",
    "            bestSig = sig\n",
    "#         print (sig, bestSig, mse) \n",
    "    rangePSNR = np.max(cl)-np.min(cl)\n",
    "    psnr = PSNR(cl, bestImg, rangePSNR)\n",
    "    psnrs.append(psnr)\n",
    "    print(\"image:\", img_idx, \"\\t PSNR:\", psnr, \"\\t mean PSNR:\", np.mean(psnrs))\n"
   ]
  },
  {
   "cell_type": "code",
   "execution_count": null,
   "metadata": {
    "collapsed": true
   },
   "outputs": [],
   "source": []
  }
 ],
 "metadata": {
  "kernelspec": {
   "display_name": "bm3d",
   "language": "python",
   "name": "bm3d"
  },
  "language_info": {
   "codemirror_mode": {
    "name": "ipython",
    "version": 3
   },
   "file_extension": ".py",
   "mimetype": "text/x-python",
   "name": "python",
   "nbconvert_exporter": "python",
   "pygments_lexer": "ipython3",
   "version": "3.6.12"
  }
 },
 "nbformat": 4,
 "nbformat_minor": 4
}
